{
 "cells": [
  {
   "cell_type": "markdown",
   "metadata": {},
   "source": [
    "- Change the np.load to include the file\n",
    "- Add the following .pkl files into the same folder as this .ipynb (model, model_features, scaler, poly)\n",
    "- Edit the transform_features() method if necessary"
   ]
  },
  {
   "cell_type": "code",
   "execution_count": 1,
   "metadata": {
    "colab": {
     "base_uri": "https://localhost:8080/"
    },
    "id": "-ZrJYQUWBRE8",
    "outputId": "0992887d-734b-47ee-e5f7-72badc38ad9a"
   },
   "outputs": [
    {
     "name": "stdout",
     "output_type": "stream",
     "text": [
      "Number of unique user IDs in the test set: 1100\n"
     ]
    }
   ],
   "source": [
    "import numpy as np\n",
    "import pandas as pd\n",
    "import matplotlib.pyplot as plt\n",
    "import seaborn as sns\n",
    "from scipy.stats import entropy\n",
    "import joblib\n",
    "import networkx as nx\n",
    "import sys\n",
    "import os\n",
    "\n",
    "sys.path.append(os.path.abspath(\"..\"))\n",
    "\n",
    "test=np.load(\"../datasets/unlabeled/fourth_batch_multi.npz\")\n",
    "\n",
    "X_test=test[\"X\"]\n",
    "\n",
    "XX_test = pd.DataFrame(X_test)\n",
    "XX_test.rename(columns={0:\"user\",1:\"item\",2:\"rating\"},inplace=True)\n",
    "\n",
    "num_unique_users = XX_test[\"user\"].nunique()\n",
    "print(f\"Number of unique user IDs in the test set: {num_unique_users}\")"
   ]
  },
  {
   "cell_type": "code",
   "execution_count": 2,
   "metadata": {
    "colab": {
     "base_uri": "https://localhost:8080/"
    },
    "id": "iRt-PQQ4Biv6",
    "outputId": "6a93053f-949f-462c-ff0e-5bce3e2fa995"
   },
   "outputs": [
    {
     "name": "stdout",
     "output_type": "stream",
     "text": [
      "Best contamination value: 0.001\n",
      "test_features before selecting features (1100, 66)\n",
      "test_features after selecting features (1100, 28)\n",
      "prediction shape (1100, 6)\n"
     ]
    },
    {
     "data": {
      "text/html": [
       "<div>\n",
       "<style scoped>\n",
       "    .dataframe tbody tr th:only-of-type {\n",
       "        vertical-align: middle;\n",
       "    }\n",
       "\n",
       "    .dataframe tbody tr th {\n",
       "        vertical-align: top;\n",
       "    }\n",
       "\n",
       "    .dataframe thead th {\n",
       "        text-align: right;\n",
       "    }\n",
       "</style>\n",
       "<table border=\"1\" class=\"dataframe\">\n",
       "  <thead>\n",
       "    <tr style=\"text-align: right;\">\n",
       "      <th></th>\n",
       "      <th>0</th>\n",
       "      <th>1</th>\n",
       "      <th>2</th>\n",
       "      <th>3</th>\n",
       "      <th>4</th>\n",
       "      <th>5</th>\n",
       "    </tr>\n",
       "  </thead>\n",
       "  <tbody>\n",
       "    <tr>\n",
       "      <th>0</th>\n",
       "      <td>0.044892</td>\n",
       "      <td>0.012898</td>\n",
       "      <td>0.766773</td>\n",
       "      <td>0.000703</td>\n",
       "      <td>0.067188</td>\n",
       "      <td>0.107546</td>\n",
       "    </tr>\n",
       "    <tr>\n",
       "      <th>1</th>\n",
       "      <td>0.961272</td>\n",
       "      <td>0.000511</td>\n",
       "      <td>0.001732</td>\n",
       "      <td>0.000098</td>\n",
       "      <td>0.035957</td>\n",
       "      <td>0.000431</td>\n",
       "    </tr>\n",
       "    <tr>\n",
       "      <th>2</th>\n",
       "      <td>0.989284</td>\n",
       "      <td>0.000508</td>\n",
       "      <td>0.005014</td>\n",
       "      <td>0.003277</td>\n",
       "      <td>0.001456</td>\n",
       "      <td>0.000460</td>\n",
       "    </tr>\n",
       "    <tr>\n",
       "      <th>3</th>\n",
       "      <td>0.987125</td>\n",
       "      <td>0.000549</td>\n",
       "      <td>0.000168</td>\n",
       "      <td>0.000030</td>\n",
       "      <td>0.012053</td>\n",
       "      <td>0.000076</td>\n",
       "    </tr>\n",
       "    <tr>\n",
       "      <th>4</th>\n",
       "      <td>0.926955</td>\n",
       "      <td>0.002248</td>\n",
       "      <td>0.002984</td>\n",
       "      <td>0.001321</td>\n",
       "      <td>0.065110</td>\n",
       "      <td>0.001382</td>\n",
       "    </tr>\n",
       "  </tbody>\n",
       "</table>\n",
       "</div>"
      ],
      "text/plain": [
       "          0         1         2         3         4         5\n",
       "0  0.044892  0.012898  0.766773  0.000703  0.067188  0.107546\n",
       "1  0.961272  0.000511  0.001732  0.000098  0.035957  0.000431\n",
       "2  0.989284  0.000508  0.005014  0.003277  0.001456  0.000460\n",
       "3  0.987125  0.000549  0.000168  0.000030  0.012053  0.000076\n",
       "4  0.926955  0.002248  0.002984  0.001321  0.065110  0.001382"
      ]
     },
     "execution_count": 2,
     "metadata": {},
     "output_type": "execute_result"
    }
   ],
   "source": [
    "from utils.feature_transformation import aggregate_features\n",
    "from sklearn.impute import SimpleImputer\n",
    "\n",
    "test_features = aggregate_features(XX_test, 0.001)\n",
    "\n",
    "# TODO: To achieve the best result, need to select the best features based on SHAP. Just uncomment this code to get the highest AUC so far.\n",
    "# keep = set([\n",
    "#     \"user\",  # Keep user/label for merging\n",
    "\n",
    "#     # Existing SHAP-important features\n",
    "#     \"rare_movies_watched_pct\", \"gap_max\", \"gap_mean\", \"z_rating_max\", \"std_deviation\",\n",
    "#     \"mean_rating_diff\", \"variance_movie\", \"sum_item_rating\", \"max_movie_popularity\",\n",
    "#     \"avg_movie_popularity\", \"max_movie\", \"likes_rare\", \"rare_like_ratio\",\n",
    "#     \"user_pop_percentile_std\", \"min_movie_popularity\", \"median_movie\",\n",
    "#     \"like_dislike_ratio\", \"std_rating\", \"avg_product_vs_avg_rating\",\n",
    "#     \"rating_changes_pct\", \"unknown_pct\", \"neutral_pct\", \"z_rating_skew\",\n",
    "#     \"std_rating_diff\", \"dislike_pct\", \"like_count\", \"average_product\",\n",
    "# ])\n",
    "# test_features = test_features[[col for col in test_features.columns if col in keep]]\n",
    "\n",
    "test_features.sort_values(by=\"user\", inplace=True)\n",
    "\n",
    "# Select only important features\n",
    "model_features = joblib.load(\"model_features.pkl\")\n",
    "print(f\"test_features before selecting features {test_features.shape}\")\n",
    "\n",
    "# If feature does not exist, populate with 0s\n",
    "for feat in model_features:\n",
    "    if feat not in test_features.columns:\n",
    "        test_features[feat] = 0\n",
    "test_features = test_features[model_features]\n",
    "print(f\"test_features after selecting features {test_features.shape}\")\n",
    "\n",
    "# debugging\n",
    "# print(test_features.columns)\n",
    "\n",
    "scaler = joblib.load(\"scaler.pkl\")\n",
    "poly = joblib.load(\"poly.pkl\")\n",
    "\n",
    "test_features_scaled = scaler.transform(test_features)\n",
    "test_features_poly = poly.transform(test_features_scaled)\n",
    "\n",
    "# Load the trained model and predict probabilities (shape: #test_users x 6)\n",
    "xgb_model = joblib.load(\"xgb_model.pkl\")\n",
    "probabilities = xgb_model.predict_proba(test_features_poly)\n",
    "y_pred_proba_rf = xgb_model.predict_proba(test_features_poly)\n",
    "# print(y_pred_proba_rf)\n",
    "\n",
    "np.savez(\"predictions.npz\", probabilities=probabilities)\n",
    "print(f\"prediction shape {probabilities.shape}\")\n",
    "\n",
    "test_results=np.load(\"predictions.npz\")\n",
    "test_results_df = pd.DataFrame(test_results[\"probabilities\"])\n",
    "test_results_df.head()"
   ]
  },
  {
   "cell_type": "code",
   "execution_count": 3,
   "metadata": {},
   "outputs": [
    {
     "name": "stdout",
     "output_type": "stream",
     "text": [
      "Class instance counts:\n",
      "Class 0: 1061\n",
      "Class 1: 1\n",
      "Class 2: 7\n",
      "Class 3: 13\n",
      "Class 4: 13\n",
      "Class 5: 5\n"
     ]
    }
   ],
   "source": [
    "data = np.load('predictions.npz')\n",
    "predictions = data['probabilities']\n",
    "\n",
    "class_counts = {i: 0 for i in range(6)}\n",
    "\n",
    "for row in predictions:\n",
    "    predicted_class = np.argmax(row)\n",
    "    class_counts[predicted_class] += 1\n",
    "\n",
    "print(\"Class instance counts:\")\n",
    "for class_label, count in class_counts.items():\n",
    "    print(f\"Class {class_label}: {count}\") "
   ]
  }
 ],
 "metadata": {
  "colab": {
   "provenance": []
  },
  "kernelspec": {
   "display_name": "CS421",
   "language": "python",
   "name": "python3"
  },
  "language_info": {
   "codemirror_mode": {
    "name": "ipython",
    "version": 3
   },
   "file_extension": ".py",
   "mimetype": "text/x-python",
   "name": "python",
   "nbconvert_exporter": "python",
   "pygments_lexer": "ipython3",
   "version": "3.12.9"
  }
 },
 "nbformat": 4,
 "nbformat_minor": 4
}
